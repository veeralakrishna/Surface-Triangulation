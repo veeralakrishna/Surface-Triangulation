{
 "cells": [
  {
   "cell_type": "markdown",
   "metadata": {},
   "source": [
    "## 3D Interactive Car with Plotly\n",
    "\n",
    "\n",
    "\n",
    "Impressed by these kernels, I used these kernels and the plotly official documentation to create the following visualizations:\n",
    "\n",
    "- Eric Bouteillon(@ebouteillon) : [Load a 3D car model](https://www.kaggle.com/ebouteillon/load-a-3d-car-model)\n",
    "- Phung Hieu(@phunghieu) [A quick & simple EDA](https://www.kaggle.com/phunghieu/a-quick-simple-eda)\n",
    "\n",
    "- [Plotly : Surface Triangulation in Python/v3](https://plot.ly/python/v3/surface-triangulation/)\n",
    "\n",
    "I hope you all get good results."
   ]
  },
  {
   "cell_type": "code",
   "execution_count": null,
   "metadata": {
    "ExecuteTime": {
     "end_time": "2023-07-06T17:18:07.176386Z",
     "start_time": "2023-07-06T17:18:07.128289Z"
    }
   },
   "outputs": [],
   "source": [
    "import os"
   ]
  },
  {
   "cell_type": "code",
   "execution_count": null,
   "metadata": {
    "ExecuteTime": {
     "end_time": "2023-07-06T17:11:27.050663Z",
     "start_time": "2023-07-06T17:11:23.690433Z"
    },
    "_kg_hide-input": true,
    "execution": {
     "iopub.execute_input": "2023-06-22T15:18:52.445826Z",
     "iopub.status.busy": "2023-06-22T15:18:52.445161Z",
     "iopub.status.idle": "2023-06-22T15:18:55.052220Z",
     "shell.execute_reply": "2023-06-22T15:18:55.050993Z",
     "shell.execute_reply.started": "2023-06-22T15:18:52.445560Z"
    }
   },
   "outputs": [],
   "source": [
    "\n",
    "import json\n",
    "import numpy as np\n",
    "import matplotlib.cm as cm\n",
    "import matplotlib.pyplot as plt\n",
    "\n",
    "import plotly.figure_factory as FF\n",
    "import plotly.graph_objs as go\n",
    "\n",
    "\n",
    "\n",
    "def tri_indices(simplices):\n",
    "    \"\"\"\n",
    "    params:\n",
    "        simplices is a numpy array defining the simplices of the triangularization\n",
    "        \n",
    "    return:\n",
    "        returns the lists of indices i, j, k\n",
    "    \"\"\"\n",
    "    \n",
    "    return ([triplet[c] for triplet in simplices] for c in range(3))\n",
    "\n",
    "def plotly_trisurf(x, y, z, simplices, colormap=cm.RdBu, plot_edges=None):\n",
    "    \"\"\"\n",
    "    x, y, z are lists of coordinates of the triangle vertices \n",
    "    simplices are the simplices that define the triangularization;\n",
    "    simplices  is a numpy array of shape (no_triangles, 3)\n",
    "    \"\"\"\n",
    "\n",
    "    points3D=np.vstack((x,y,z)).T\n",
    "    tri_vertices=map(lambda index: points3D[index], simplices)\n",
    "    zmean=[np.mean(tri[:,2]) for tri in tri_vertices ]\n",
    "    min_zmean=np.min(zmean)\n",
    "    max_zmean=np.max(zmean)\n",
    "    facecolor=[map_z2color(zz,  \n",
    "                           colormap, \n",
    "                           min_zmean, \n",
    "                           max_zmean) for zz in zmean]\n",
    "    I,J,K=tri_indices(simplices)\n",
    "\n",
    "    triangles=go.Mesh3d(x=x, \n",
    "                        y=y, \n",
    "                        z=z,\n",
    "                        facecolor=facecolor,\n",
    "                        i=I, \n",
    "                        j=J, \n",
    "                        k=K,\n",
    "                        name='')\n",
    "\n",
    "    if plot_edges is None: return [triangles]\n",
    "    else:\n",
    "        lists_coord=[[[T[k%3][c] for k in range(4)]+[ None]   for T in tri_vertices]  for c in range(3)]\n",
    "        Xe, Ye, Ze = [reduce(lambda x,y: x+y, lists_coord[k]) for k in range(3)]\n",
    "\n",
    "        lines=go.Scatter3d(x=Xe, \n",
    "                           y=Ye, \n",
    "                           z=Ze,\n",
    "                           mode='lines',\n",
    "                           line=dict(color='rgb(50,50,50)', \n",
    "                                     width=1.5))\n",
    "        return [triangles, lines]\n",
    "\n",
    "    \n",
    "def map_z2color(zval, colormap, vmin, vmax):\n",
    "    \"\"\"\n",
    "    map the normalized value zval to a corresponding color in the colormap\n",
    "    \"\"\"\n",
    "    if vmin>vmax: \n",
    "        raise ValueError('incorrect relation between vmin and vmax')\n",
    "        \n",
    "    t=(zval-vmin)/float((vmax-vmin))#normalize val\n",
    "    R, G, B, alpha=colormap(t)\n",
    "    \n",
    "    return 'rgb('+'{:d}'.format(int(R*255+0.5))+','+'{:d}'.format(int(G*255+0.5))+\\\n",
    "           ','+'{:d}'.format(int(B*255+0.5))+')'"
   ]
  },
  {
   "cell_type": "code",
   "execution_count": null,
   "metadata": {
    "ExecuteTime": {
     "end_time": "2023-07-06T17:28:28.897739Z",
     "start_time": "2023-07-06T17:28:26.972618Z"
    }
   },
   "outputs": [],
   "source": [
    "file_loc = '/kaggle/input/pku-autonomous-driving/car_models_json/sikeda-jingrui.json'\n",
    "\n",
    "# Get the file extension\n",
    "extension = os.path.splitext(file_loc)[1]\n",
    "\n",
    "extension"
   ]
  },
  {
   "cell_type": "code",
   "execution_count": null,
   "metadata": {
    "_cell_guid": "b1076dfc-b9ad-4769-8c92-a6c4dae69d19",
    "_uuid": "8f2839f25d086af736a60e9eeb907d3b93b6e0e5",
    "execution": {
     "iopub.execute_input": "2023-06-22T15:19:00.489686Z",
     "iopub.status.busy": "2023-06-22T15:19:00.489191Z",
     "iopub.status.idle": "2023-06-22T15:19:02.771387Z",
     "shell.execute_reply": "2023-06-22T15:19:02.770304Z",
     "shell.execute_reply.started": "2023-06-22T15:19:00.489641Z"
    }
   },
   "outputs": [],
   "source": [
    "def plotly_Surface_Triangulation(file_name,\n",
    "                                 axis=True\n",
    "                                 ):\n",
    "\n",
    "    # Get the file name without extension\n",
    "    name_without_extension = os.path.splitext(os.path.basename(file_name))[0]\n",
    "    if os.path.splitext(file_name)[1].lower() not in (\".json\", \".ply\"):\n",
    "        print(f\"{file_name} - doesn't support\")\n",
    "    else:\n",
    "\n",
    "        if os.path.splitext(file_name)[1].lower() == \".json\":\n",
    "\n",
    "            with open(file_name) as json_file:\n",
    "                # load json file\n",
    "                data = json.load(json_file)\n",
    "                # Extract vertices & triangles\n",
    "                vertices, triangles = np.array(data['vertices']), np.array(data['faces']) - 1\n",
    "                # Unpack vertices\n",
    "                x, y, z = vertices[:,0], vertices[:,2], -vertices[:,1]\n",
    "                # Get Car type from json\n",
    "                car_type = data['car_type']\n",
    "\n",
    "                name_without_extension = name_without_extension +  \" - \" + car_type\n",
    "\n",
    "        elif os.path.splitext(file_name)[1].lower() == \".ply\":\n",
    "            # req = urllib2.Request('https://people.sc.fsu.edu/~jburkardt/data/ply/skull.ply')\n",
    "            # opener = urllib2.build_opener()\n",
    "            # f = opener.open(req)\n",
    "            plydata = PlyData.read(file_name)\n",
    "\n",
    "            nr_points = plydata.elements[0].count\n",
    "            nr_faces = plydata.elements[1].count\n",
    "            points = np.array([plydata['vertex'][k] for k in range(nr_points)])\n",
    "\n",
    "            if len(points[0]) > 3:\n",
    "                points = list(map(itemgetter(0, 1, 2), points))\n",
    "\n",
    "            x,y,z = zip(*points)\n",
    "            triangles = [plydata['face'][k][0] for k in range(nr_faces)]\n",
    "\n",
    "\n",
    "        # get Graph data\n",
    "        graph_data = plotly_trisurf(x,\n",
    "                                    y,\n",
    "                                    z,\n",
    "                                    triangles,\n",
    "                                    colormap=cm.RdBu,\n",
    "                                    plot_edges=None)\n",
    "\n",
    "        if axis:\n",
    "            # with axis\n",
    "            axis = dict(\n",
    "                showbackground=True,\n",
    "                backgroundcolor=\"rgb(230, 230,230)\",\n",
    "                gridcolor=\"rgb(255, 255, 255)\",\n",
    "                zerolinecolor=\"rgb(255, 255, 255)\",\n",
    "            )\n",
    "\n",
    "            scene=dict(\n",
    "                xaxis=dict(axis),\n",
    "                yaxis=dict(axis),\n",
    "                zaxis=dict(axis),\n",
    "                # aspectratio=dict( x=1, y=2, z=0.5),\n",
    "                # camera=dict(eye=dict(x=1.25, y=1.25, z= 1.25))\n",
    "             )\n",
    "\n",
    "        else:\n",
    "            # with no axis\n",
    "            noaxis=dict(\n",
    "                showbackground=False,\n",
    "                showline=False,\n",
    "                zeroline=False,\n",
    "                showgrid=False,\n",
    "                showticklabels=False,\n",
    "                title=''\n",
    "            )\n",
    "\n",
    "            scene=dict(\n",
    "                xaxis=dict(noaxis),\n",
    "                yaxis=dict(noaxis),\n",
    "                zaxis=dict(noaxis),\n",
    "\n",
    "                 )\n",
    "\n",
    "        layout = go.Layout(\n",
    "            title= dict(\n",
    "                text=name_without_extension,\n",
    "                x=0.6,\n",
    "                y=0.95,\n",
    "                font=dict(\n",
    "                    family=\"Rockwell\",\n",
    "                    size=20,\n",
    "                    color='#000000'\n",
    "                    )\n",
    "                ),\n",
    "            hoverlabel=dict(\n",
    "                bgcolor=\"rgba(58, 71, 80, 0.1)\",\n",
    "                font_size=16,\n",
    "                font_family=\"Rockwell\"\n",
    "                ),\n",
    "            margin=dict(\n",
    "                l=0,\n",
    "                b=0,\n",
    "                r=0,\n",
    "                t=0,\n",
    "            ),\n",
    "            width=900,\n",
    "            height=500,\n",
    "\n",
    "            paper_bgcolor='snow',\n",
    "            scene=scene,\n",
    "            scene_aspectmode=\"data\"\n",
    "\n",
    "    )\n",
    "\n",
    "\n",
    "        fig = go.Figure(data=graph_data,\n",
    "                        layout=layout)\n",
    "\n",
    "\n",
    "        fig.show()\n",
    "\n",
    "    \n"
   ]
  },
  {
   "cell_type": "markdown",
   "metadata": {},
   "source": [
    "aliceblue, antiquewhite, aqua, aquamarine, azure,\n",
    "            beige, bisque, black, blanchedalmond, blue,\n",
    "            blueviolet, brown, burlywood, cadetblue,\n",
    "            chartreuse, chocolate, coral, cornflowerblue,\n",
    "            cornsilk, crimson, cyan, darkblue, darkcyan,\n",
    "            darkgoldenrod, darkgray, darkgrey, darkgreen,\n",
    "            darkkhaki, darkmagenta, darkolivegreen, darkorange,\n",
    "            darkorchid, darkred, darksalmon, darkseagreen,\n",
    "            darkslateblue, darkslategray, darkslategrey,\n",
    "            darkturquoise, darkviolet, deeppink, deepskyblue,\n",
    "            dimgray, dimgrey, dodgerblue, firebrick,\n",
    "            floralwhite, forestgreen, fuchsia, gainsboro,\n",
    "            ghostwhite, gold, goldenrod, gray, grey, green,\n",
    "            greenyellow, honeydew, hotpink, indianred, indigo,\n",
    "            ivory, khaki, lavender, lavenderblush, lawngreen,\n",
    "            lemonchiffon, lightblue, lightcoral, lightcyan,\n",
    "            lightgoldenrodyellow, lightgray, lightgrey,\n",
    "            lightgreen, lightpink, lightsalmon, lightseagreen,\n",
    "            lightskyblue, lightslategray, lightslategrey,\n",
    "            lightsteelblue, lightyellow, lime, limegreen,\n",
    "            linen, magenta, maroon, mediumaquamarine,\n",
    "            mediumblue, mediumorchid, mediumpurple,\n",
    "            mediumseagreen, mediumslateblue, mediumspringgreen,\n",
    "            mediumturquoise, mediumvioletred, midnightblue,\n",
    "            mintcream, mistyrose, moccasin, navajowhite, navy,\n",
    "            oldlace, olive, olivedrab, orange, orangered,\n",
    "            orchid, palegoldenrod, palegreen, paleturquoise,\n",
    "            palevioletred, papayawhip, peachpuff, peru, pink,\n",
    "            plum, powderblue, purple, red, rosybrown,\n",
    "            royalblue, rebeccapurple, saddlebrown, salmon,\n",
    "            sandybrown, seagreen, seashell, sienna, silver,\n",
    "            skyblue, slateblue, slategray, slategrey, snow,\n",
    "            springgreen, steelblue, tan, teal, thistle, tomato,\n",
    "            turquoise, violet, wheat, white, whitesmoke,\n",
    "            yellow, yellowgreen"
   ]
  },
  {
   "cell_type": "code",
   "execution_count": null,
   "metadata": {
    "_cell_guid": "79c7e3d0-c299-4dcb-8224-4455121ee9b0",
    "_uuid": "d629ff2d2480ee46fbb7e2d37f6b5fab8052498a",
    "execution": {
     "iopub.execute_input": "2023-06-22T15:19:05.106165Z",
     "iopub.status.busy": "2023-06-22T15:19:05.105789Z",
     "iopub.status.idle": "2023-06-22T15:19:05.112061Z",
     "shell.execute_reply": "2023-06-22T15:19:05.111245Z",
     "shell.execute_reply.started": "2023-06-22T15:19:05.106100Z"
    }
   },
   "outputs": [],
   "source": [
    "from pprint import pprint\n",
    "\n",
    "pprint(data.keys())"
   ]
  },
  {
   "cell_type": "code",
   "execution_count": null,
   "metadata": {
    "execution": {
     "iopub.execute_input": "2023-06-22T15:19:11.788098Z",
     "iopub.status.busy": "2023-06-22T15:19:11.787731Z",
     "iopub.status.idle": "2023-06-22T15:19:14.511218Z",
     "shell.execute_reply": "2023-06-22T15:19:14.510257Z",
     "shell.execute_reply.started": "2023-06-22T15:19:11.788050Z"
    }
   },
   "outputs": [],
   "source": [
    "import shutil\n",
    "\n",
    "zip_name = \"car_models_json\"\n",
    "\n",
    "shutil.make_archive(zip_name, \"zip\", \"/kaggle/input/pku-autonomous-driving/car_models_json\")"
   ]
  },
  {
   "cell_type": "code",
   "execution_count": null,
   "metadata": {
    "ExecuteTime": {
     "end_time": "2023-07-06T17:46:04.145703Z",
     "start_time": "2023-07-06T17:46:04.113027Z"
    }
   },
   "outputs": [],
   "source": [
    "print(\"123\")"
   ]
  },
  {
   "cell_type": "code",
   "execution_count": null,
   "metadata": {
    "execution": {
     "iopub.execute_input": "2023-06-22T15:19:38.498083Z",
     "iopub.status.busy": "2023-06-22T15:19:38.497475Z",
     "iopub.status.idle": "2023-06-22T15:19:38.510305Z",
     "shell.execute_reply": "2023-06-22T15:19:38.509348Z",
     "shell.execute_reply.started": "2023-06-22T15:19:38.497786Z"
    }
   },
   "outputs": [],
   "source": [
    "from pprint import pprint\n",
    "import glob\n",
    "pprint(glob.glob(\"data/car_models_json/*\"))"
   ]
  },
  {
   "cell_type": "code",
   "execution_count": null,
   "metadata": {
    "execution": {
     "iopub.execute_input": "2023-06-22T15:19:39.946081Z",
     "iopub.status.busy": "2023-06-22T15:19:39.945745Z",
     "iopub.status.idle": "2023-06-22T15:19:39.957255Z",
     "shell.execute_reply": "2023-06-22T15:19:39.955964Z",
     "shell.execute_reply.started": "2023-06-22T15:19:39.946033Z"
    }
   },
   "outputs": [],
   "source": [
    "import os\n",
    "car_models_list = next(os.walk(\"/kaggle/input/pku-autonomous-driving/car_models_json\"))[2]\n",
    "\n",
    "car_models_list = [i.replace(\".json\", \"\") for i in car_models_list]\n",
    "\n",
    "car_models_list"
   ]
  },
  {
   "cell_type": "code",
   "execution_count": null,
   "metadata": {
    "execution": {
     "iopub.execute_input": "2023-06-22T15:19:41.816254Z",
     "iopub.status.busy": "2023-06-22T15:19:41.815829Z",
     "iopub.status.idle": "2023-06-22T15:19:41.832889Z",
     "shell.execute_reply": "2023-06-22T15:19:41.832058Z",
     "shell.execute_reply.started": "2023-06-22T15:19:41.816178Z"
    }
   },
   "outputs": [],
   "source": [
    "['baoma-X5',\n",
    " 'aodi-Q7-SUV',\n",
    " 'yingfeinidi-SUV',\n",
    " '019-SUV',\n",
    " 'kaidilake-CTS',\n",
    " 'guangqi-chuanqi-GS4-2015',\n",
    " 'biaozhi-408',\n",
    " 'dongfeng-fengguang-S560',\n",
    " 'dongfeng-yulong-naruijie',\n",
    " 'lingmu-SX4-2012',\n",
    " 'changan-CS35-2012',\n",
    " 'biaozhi-liangxiang',\n",
    " 'sikeda-jingrui',\n",
    " 'fengtian-MPV',\n",
    " 'qiya',\n",
    " 'biyadi-2x-F0',\n",
    " 'lingmu-aotuo-2009',\n",
    " 'benchi-SUR',\n",
    " 'jilixiongmao-2015',\n",
    " 'yiqi-benteng-b50',\n",
    " 'dazhongmaiteng',\n",
    " 'jipu-3',\n",
    " 'qirui-ruihu',\n",
    " 'bieke-kaiyue',\n",
    " 'oubao',\n",
    " 'fengtian-SUV-gai',\n",
    " 'changan-cs5',\n",
    " 'jili-boyue',\n",
    " 'aodi-a6',\n",
    " 'changcheng-H6-2016',\n",
    " 'bieke-yinglang-XT',\n",
    " 'xiandai-suonata',\n",
    " 'bentian-fengfan',\n",
    " 'Skoda_Fabia-2011',\n",
    " 'baoshijie-paoche',\n",
    " 'dazhong',\n",
    " 'biaozhi-508',\n",
    " 'changanbenben',\n",
    " '036-CAR01',\n",
    " 'fengtian-liangxiang',\n",
    " 'MG-GT-2015',\n",
    " 'rongwei-750',\n",
    " 'mazida-6-2015',\n",
    " '037-CAR02',\n",
    " 'sikeda-SUV',\n",
    " 'dongfeng-xuetielong-C6',\n",
    " 'fengtian-puladuo-06',\n",
    " 'rongwei-RX5',\n",
    " 'biyadi-tang',\n",
    " 'dazhong-SUV',\n",
    " 'linken-SUV',\n",
    " 'baojun-510',\n",
    " 'jianghuai-ruifeng-S3',\n",
    " 'dongfeng-DS5',\n",
    " 'bieke',\n",
    " 'baoshijie-kayan',\n",
    " 'fute',\n",
    " 'dihao-EV',\n",
    " 'fengtian-weichi-2006',\n",
    " 'leikesasi',\n",
    " 'xiandai-i25-2016',\n",
    " 'supai-2016',\n",
    " 'benchi-ML500',\n",
    " 'biyadi-F3',\n",
    " 'haima-3',\n",
    " 'sanling-oulande',\n",
    " 'feiyate',\n",
    " 'dongfeng-fengxing-SX6',\n",
    " 'lufeng-X8',\n",
    " 'biaozhi-3008',\n",
    " 'baoma-530',\n",
    " 'yingfeinidi-qx80',\n",
    " 'benchi-GLK-300',\n",
    " 'lingmu-swift',\n",
    " 'beiqi-huansu-H3',\n",
    " 'baoma-330',\n",
    " 'baojun-310-2017',\n",
    " 'dongnan-V3-lingyue-2011',\n",
    " 'biyadi-qin']"
   ]
  },
  {
   "cell_type": "code",
   "execution_count": null,
   "metadata": {
    "execution": {
     "iopub.execute_input": "2023-06-22T15:19:45.435486Z",
     "iopub.status.busy": "2023-06-22T15:19:45.435107Z",
     "iopub.status.idle": "2023-06-22T15:20:06.956207Z",
     "shell.execute_reply": "2023-06-22T15:20:06.955027Z",
     "shell.execute_reply.started": "2023-06-22T15:19:45.435434Z"
    }
   },
   "outputs": [],
   "source": [
    "!pip install plyfile"
   ]
  },
  {
   "cell_type": "code",
   "execution_count": null,
   "metadata": {
    "execution": {
     "iopub.execute_input": "2023-06-22T15:20:06.959220Z",
     "iopub.status.busy": "2023-06-22T15:20:06.958905Z",
     "iopub.status.idle": "2023-06-22T15:20:06.963945Z",
     "shell.execute_reply": "2023-06-22T15:20:06.962782Z",
     "shell.execute_reply.started": "2023-06-22T15:20:06.959172Z"
    }
   },
   "outputs": [],
   "source": [
    "import urllib.request as urllib2"
   ]
  },
  {
   "cell_type": "code",
   "execution_count": null,
   "metadata": {
    "execution": {
     "iopub.execute_input": "2023-06-22T15:56:36.369952Z",
     "iopub.status.busy": "2023-06-22T15:56:36.369568Z",
     "iopub.status.idle": "2023-06-22T15:56:58.443600Z",
     "shell.execute_reply": "2023-06-22T15:56:58.442519Z",
     "shell.execute_reply.started": "2023-06-22T15:56:36.369909Z"
    }
   },
   "outputs": [],
   "source": [
    "from plyfile import PlyData, PlyElement\n",
    "\n",
    "\n"
   ]
  },
  {
   "cell_type": "code",
   "execution_count": null,
   "metadata": {
    "execution": {
     "iopub.execute_input": "2023-06-22T15:57:04.804923Z",
     "iopub.status.busy": "2023-06-22T15:57:04.804525Z",
     "iopub.status.idle": "2023-06-22T15:57:04.811654Z",
     "shell.execute_reply": "2023-06-22T15:57:04.810660Z",
     "shell.execute_reply.started": "2023-06-22T15:57:04.804857Z"
    }
   },
   "outputs": [],
   "source": [
    "plydata.elements"
   ]
  },
  {
   "cell_type": "code",
   "execution_count": null,
   "metadata": {
    "execution": {
     "iopub.execute_input": "2023-06-22T16:11:27.030273Z",
     "iopub.status.busy": "2023-06-22T16:11:27.029932Z",
     "iopub.status.idle": "2023-06-22T16:11:27.298171Z",
     "shell.execute_reply": "2023-06-22T16:11:27.297408Z",
     "shell.execute_reply.started": "2023-06-22T16:11:27.030224Z"
    }
   },
   "outputs": [],
   "source": []
  },
  {
   "cell_type": "code",
   "execution_count": null,
   "metadata": {
    "execution": {
     "iopub.execute_input": "2023-06-22T16:11:31.964280Z",
     "iopub.status.busy": "2023-06-22T16:11:31.963591Z",
     "iopub.status.idle": "2023-06-22T16:11:31.970749Z",
     "shell.execute_reply": "2023-06-22T16:11:31.969861Z",
     "shell.execute_reply.started": "2023-06-22T16:11:31.963893Z"
    }
   },
   "outputs": [],
   "source": [
    "len(points)"
   ]
  },
  {
   "cell_type": "code",
   "execution_count": null,
   "metadata": {
    "execution": {
     "iopub.execute_input": "2023-06-22T16:11:39.406103Z",
     "iopub.status.busy": "2023-06-22T16:11:39.405537Z",
     "iopub.status.idle": "2023-06-22T16:11:39.414713Z",
     "shell.execute_reply": "2023-06-22T16:11:39.413589Z",
     "shell.execute_reply.started": "2023-06-22T16:11:39.406045Z"
    }
   },
   "outputs": [],
   "source": [
    "from operator import itemgetter\n",
    "list(map(itemgetter(0, 1, 2), points[:20]))"
   ]
  },
  {
   "cell_type": "code",
   "execution_count": null,
   "metadata": {
    "execution": {
     "iopub.execute_input": "2023-06-22T16:12:05.560066Z",
     "iopub.status.busy": "2023-06-22T16:12:05.559716Z",
     "iopub.status.idle": "2023-06-22T16:12:44.015300Z",
     "shell.execute_reply": "2023-06-22T16:12:44.014350Z",
     "shell.execute_reply.started": "2023-06-22T16:12:05.560019Z"
    }
   },
   "outputs": [],
   "source": [
    "\n",
    "# req = urllib2.Request('https://people.sc.fsu.edu/~jburkardt/data/ply/skull.ply')\n",
    "# opener = urllib2.build_opener()\n",
    "# f = opener.open(req)\n",
    "plydata = PlyData.read(file_name)\n",
    "\n",
    "nr_points = plydata.elements[0].count\n",
    "nr_faces = plydata.elements[1].count\n",
    "points = np.array([plydata['vertex'][k] for k in range(nr_points)])\n",
    "\n",
    "if len(points[0]) > 3:\n",
    "    points = list(map(itemgetter(0, 1, 2), points))\n",
    "    \n",
    "x,y,z = zip(*points)\n",
    "faces = [plydata['face'][k][0] for k in range(nr_faces)]\n",
    "\n",
    "graph_data = plotly_trisurf(x,y,z, faces, colormap=cm.RdBu, plot_edges=None)\n",
    "\n",
    "\n",
    "if axis:\n",
    "\n",
    "    # with axis\n",
    "    axis = dict(\n",
    "        showbackground=True,\n",
    "        backgroundcolor=\"rgb(230, 230,230)\",\n",
    "        gridcolor=\"rgb(255, 255, 255)\",\n",
    "        zerolinecolor=\"rgb(255, 255, 255)\",\n",
    "    )\n",
    "\n",
    "    scene=dict(\n",
    "        xaxis=dict(axis), \n",
    "        yaxis=dict(axis), \n",
    "        zaxis=dict(axis),\n",
    "        aspectratio=dict( x=0, y=0, z=0.5),\n",
    "        camera=dict(eye=dict(x=4.25, y=1.25, z= 1.25))\n",
    "     )\n",
    "\n",
    "\n",
    "\n",
    "\n",
    "\n",
    "else:\n",
    "    # with no axis\n",
    "    noaxis=dict(\n",
    "        showbackground=False,\n",
    "        showline=False,\n",
    "        zeroline=False,\n",
    "        showgrid=False,\n",
    "        showticklabels=False,\n",
    "        title=''\n",
    "    )\n",
    "\n",
    "    scene=dict(\n",
    "        xaxis=dict(noaxis), \n",
    "        yaxis=dict(noaxis), \n",
    "        zaxis=dict(noaxis),\n",
    "\n",
    "         )\n",
    "\n",
    "layout = go.Layout(\n",
    "    title= dict(\n",
    "        text=\"Ant\",\n",
    "        x=0.6,\n",
    "        y=0.95,\n",
    "        font=dict(\n",
    "            family=\"Arial\",\n",
    "            size=20,\n",
    "            color='#000000'\n",
    "            )\n",
    "        ),\n",
    "    hoverlabel=dict(\n",
    "        bgcolor=\"rgba(58, 71, 80, 0.1)\",\n",
    "        font_size=16,\n",
    "        font_family=\"Rockwell\"\n",
    "        ),\n",
    "    margin=dict(\n",
    "        l=0,\n",
    "        b=0,\n",
    "        r=0,\n",
    "        t=0,\n",
    "    ),\n",
    "    width=900, \n",
    "    height=400,\n",
    "\n",
    "    paper_bgcolor='snow',\n",
    "    scene=scene,\n",
    "    scene_aspectmode=\"data\"\n",
    "\n",
    ")\n",
    "\n",
    "\n",
    "fig = go.Figure(data=graph_data, \n",
    "                layout=layout)\n",
    "\n",
    "\n",
    "\n",
    "fig.show()\n",
    "\n",
    "    \n"
   ]
  },
  {
   "cell_type": "code",
   "execution_count": null,
   "metadata": {
    "execution": {
     "iopub.execute_input": "2023-06-22T15:39:43.867558Z",
     "iopub.status.busy": "2023-06-22T15:39:43.867065Z",
     "iopub.status.idle": "2023-06-22T15:39:43.873032Z",
     "shell.execute_reply": "2023-06-22T15:39:43.871422Z",
     "shell.execute_reply.started": "2023-06-22T15:39:43.867482Z"
    }
   },
   "outputs": [],
   "source": [
    "# import subprocess\n",
    "\n",
    "# myurl = 'https://people.sc.fsu.edu/~jburkardt/data/ply'\n",
    "# subprocess.call([\"wget\", \"-r\", \"rb\" \"files\", \"ply\", myurl])"
   ]
  },
  {
   "cell_type": "code",
   "execution_count": null,
   "metadata": {
    "execution": {
     "iopub.execute_input": "2023-06-22T14:31:56.907418Z",
     "iopub.status.busy": "2023-06-22T14:31:56.906876Z",
     "iopub.status.idle": "2023-06-22T14:31:56.914124Z",
     "shell.execute_reply": "2023-06-22T14:31:56.913175Z",
     "shell.execute_reply.started": "2023-06-22T14:31:56.907357Z"
    }
   },
   "outputs": [],
   "source": [
    "# next(os.walk(\"/kaggle/working/people.sc.fsu.edu/~jburkardt/data/ply\"))[2]"
   ]
  },
  {
   "cell_type": "code",
   "execution_count": null,
   "metadata": {},
   "outputs": [],
   "source": [
    "ply_files = ['symphysis.ply',\n",
    " 'tetrahedron.ply',\n",
    " 'scissors.ply',\n",
    " 'street_lamp.ply',\n",
    " 'cow.binary.ply',\n",
    " 'walkman.ply',\n",
    " 'helix.ply',\n",
    " 'ellell.ply',\n",
    " 'sphere.ply',\n",
    " 'trashcan.ply',\n",
    " 'part.ply',\n",
    " 'tennis_shoe.ply',\n",
    " 'airplane.ply',\n",
    " 'apple.ply',\n",
    " 'ketchup.ply',\n",
    " 'steeringweel.ply',\n",
    " 'cube.ply',\n",
    " 'mug.ply',\n",
    " 'hammerhead.ply',\n",
    " 'turbine.ply',\n",
    " 'teapot.ply',\n",
    " 'ant.ply',\n",
    " 'pickup_big.ply',\n",
    " 'head2.ply',\n",
    " 'shark.ply',\n",
    " 'icosahedron.ply',\n",
    " 'balance.ply',\n",
    " 'big_spider.ply',\n",
    " 'saratoga.ply',\n",
    " 'pump.ply',\n",
    " 'cow.ply',\n",
    " 'chopper.ply',\n",
    " 'canstick.ply',\n",
    " 'footbones.ply',\n",
    " 'sandal.ply',\n",
    " 'skull.ply',\n",
    " 'galleon.ply',\n",
    " 'urn2.ply',\n",
    " 'head1.ply',\n",
    " 'tommygun.ply',\n",
    " 'big_porsche.ply',\n",
    " 'f16.ply',\n",
    " 'dodecahedron.ply',\n",
    " 'pyramid.ply',\n",
    " 'fracttree.ply',\n",
    " 'kerolamp.ply',\n",
    " 'big_atc.ply',\n",
    " 'dolphins.ply',\n",
    " 'weathervane.ply',\n",
    " 'beethoven.ply',\n",
    " 'hind.ply',\n",
    " 'big_dodge.ply',\n",
    " 'dart.ply',\n",
    " 'egret.ply',\n",
    " 'stratocaster.ply',\n",
    " 'pumpa_tb.ply',\n",
    " 'octahedron.ply']\n",
    "\n",
    "ply_file_names = [name.replace(\".ply\", \"\") for i in ply_files]"
   ]
  },
  {
   "cell_type": "code",
   "execution_count": null,
   "metadata": {
    "execution": {
     "iopub.execute_input": "2023-06-22T14:31:52.207594Z",
     "iopub.status.busy": "2023-06-22T14:31:52.207005Z",
     "iopub.status.idle": "2023-06-22T14:31:52.213441Z",
     "shell.execute_reply": "2023-06-22T14:31:52.212210Z",
     "shell.execute_reply.started": "2023-06-22T14:31:52.207512Z"
    }
   },
   "outputs": [],
   "source": [
    "\n",
    "    \n",
    "my_dir = \"/kaggle/working/people.sc.fsu.edu/~jburkardt/data/ply\"# enter the dir name\n",
    "for fname in os.listdir(my_dir):\n",
    "    if fname.endswith(\".html\"):\n",
    "        os.remove(os.path.join(my_dir, fname))"
   ]
  },
  {
   "cell_type": "code",
   "execution_count": null,
   "metadata": {
    "execution": {
     "iopub.execute_input": "2023-06-22T14:32:25.687753Z",
     "iopub.status.busy": "2023-06-22T14:32:25.686901Z",
     "iopub.status.idle": "2023-06-22T14:32:32.622335Z",
     "shell.execute_reply": "2023-06-22T14:32:32.621460Z",
     "shell.execute_reply.started": "2023-06-22T14:32:25.687194Z"
    }
   },
   "outputs": [],
   "source": [
    "zip_name = \"ply_data\"\n",
    "\n",
    "shutil.make_archive(zip_name, \"zip\", my_dir)"
   ]
  },
  {
   "cell_type": "code",
   "execution_count": null,
   "metadata": {
    "execution": {
     "iopub.execute_input": "2023-06-22T14:33:03.773497Z",
     "iopub.status.busy": "2023-06-22T14:33:03.773173Z",
     "iopub.status.idle": "2023-06-22T14:33:03.935649Z",
     "shell.execute_reply": "2023-06-22T14:33:03.933923Z",
     "shell.execute_reply.started": "2023-06-22T14:33:03.773456Z"
    }
   },
   "outputs": [],
   "source": [
    "shutil.rmtree(\"/kaggle/working/people.sc.fsu.edu\")"
   ]
  },
  {
   "cell_type": "code",
   "execution_count": null,
   "metadata": {},
   "outputs": [],
   "source": [
    "\n",
    "#     fig.add_shape(\n",
    "#         # Line with reference to the plot\n",
    "#             type=\"line\",\n",
    "#             xref=\"paper\",\n",
    "#             yref=\"paper\",\n",
    "#             x0=0,\n",
    "#             y0=1.0,\n",
    "#             x1=1.0,\n",
    "#             y1=1.0,\n",
    "#             line=dict(\n",
    "#                 color=\"black\",\n",
    "#                 width=4,\n",
    "#             )\n",
    "#         )\n",
    "\n",
    "#     fig.add_shape(\n",
    "#             # Line with reference to the plot\n",
    "#                 type=\"line\",\n",
    "#                 xref=\"paper\",\n",
    "#                 yref=\"paper\",\n",
    "#                 x0=1.0,\n",
    "#                 y0=1.0,\n",
    "#                 x1=1.0,\n",
    "#                 y1=0,\n",
    "#                 line=dict(\n",
    "#                     color=\"teal\",\n",
    "#                     width=6,\n",
    "#                 )\n",
    "#             )"
   ]
  }
 ],
 "metadata": {
  "kernelspec": {
   "display_name": "Python 3 (ipykernel)",
   "language": "python",
   "name": "python3"
  },
  "language_info": {
   "codemirror_mode": {
    "name": "ipython",
    "version": 3
   },
   "file_extension": ".py",
   "mimetype": "text/x-python",
   "name": "python",
   "nbconvert_exporter": "python",
   "pygments_lexer": "ipython3",
   "version": "3.9.16"
  }
 },
 "nbformat": 4,
 "nbformat_minor": 4
}
